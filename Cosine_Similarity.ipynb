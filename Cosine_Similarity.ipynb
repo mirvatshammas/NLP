{
  "nbformat": 4,
  "nbformat_minor": 0,
  "metadata": {
    "colab": {
      "provenance": [],
      "toc_visible": true
    },
    "kernelspec": {
      "name": "python3",
      "display_name": "Python 3 (ipykernel)",
      "language": "python"
    },
    "language_info": {
      "name": "python"
    }
  },
  "cells": [
    {
      "cell_type": "markdown",
      "source": [
        "# Cosine Similarity"
      ],
      "metadata": {
        "id": "_XxTOWUlGmT0"
      }
    },
    {
      "cell_type": "markdown",
      "source": [
        "## What is it?\n"
      ],
      "metadata": {
        "id": "tC4k5e_XGzYz"
      }
    },
    {
      "cell_type": "markdown",
      "source": [
        "Cosine Similarity is a measure of similarity between two non-zero vectors in an inner product space. It calculates the cosine of the angle between the two vectors, providing a measure that indicates how similar the two vectors are, irrespective of their magnitude.\n",
        "\n",
        "**Formula**\n",
        "\n",
        "The cosine similarity between two vectors A and B is given by:\n",
        "\n",
        "Cosine Similarity = $\\frac{A \\cdot B}{||A|| ||B||}$\n",
        "\n",
        "**Range**\n",
        "\n",
        "* The value of cosine similarity ranges from -1 to 1.\n",
        "* ndicates that the vectors are identical (i.e., the angle between them is 0 degrees).\n",
        "* ndicates that the vectors are orthogonal (i.e., the angle between them is 90 degrees).\n",
        "* indicates that the vectors are diametrically opposed (i.e., the angle between them is 180 degrees)."
      ],
      "metadata": {
        "id": "y63i6rfJHC52"
      }
    },
    {
      "cell_type": "code",
      "source": [],
      "metadata": {
        "id": "gTn41hepGuE0"
      },
      "execution_count": null,
      "outputs": []
    },
    {
      "cell_type": "markdown",
      "source": [
        "## What for?"
      ],
      "metadata": {
        "id": "Jngpu_PmG3Mt"
      }
    },
    {
      "cell_type": "markdown",
      "source": [
        "Applications in NLP\n",
        "\n",
        "* Document Comparison: Comparing the content of documents for plagiarism detection.\n",
        "* ry Matching: Matching user queries to documents in a search engine.\n",
        "* Text Summarization: Finding sentences similar to a given sentence to create summaries.\n",
        "* aphrase Detection: Detecting if two sentences have similar meanings.\n"
      ],
      "metadata": {
        "id": "1w0opbT3HS6h"
      }
    },
    {
      "cell_type": "code",
      "source": [],
      "metadata": {
        "id": "-4RIWFqtG52a"
      },
      "execution_count": null,
      "outputs": []
    },
    {
      "cell_type": "markdown",
      "source": [
        "## Example"
      ],
      "metadata": {
        "id": "imkdKR9cHiYt"
      }
    },
    {
      "cell_type": "markdown",
      "source": [
        "$$\n",
        "\\mathbf{A} = \\begin{bmatrix} 1 \\\\ 0 \\\\ 2 \\\\ 3 \\end{bmatrix},\n",
        "\\quad\n",
        "\\mathbf{B} = \\begin{bmatrix} 0 \\\\ 1 \\\\ 2 \\\\ 3 \\end{bmatrix}\n",
        "$$"
      ],
      "metadata": {
        "id": "aDgWBRZ5HkGV"
      }
    },
    {
      "cell_type": "markdown",
      "source": [
        "$$\n",
        "A \\cdot{B} = (1 \\cdot{0}) + (0 \\cdot{1}) + (2 \\cdot{2}) + ( 3 \\cdot{3}) = 13\n",
        "$$\n",
        "\n",
        "$$\n",
        "||A|| = \\sqrt{1^2 + 0^2 + 2^2 + 3^2} = \\sqrt{14}\n",
        "$$\n",
        "\n",
        "$$\n",
        "||B|| =  \\sqrt{0^2 + 1^2 + 2^2 + 3^2} = \\sqrt{14}\n",
        "$$\n",
        "\n",
        "$$\n",
        "Cosine Similarity = \\frac{A \\cdot{B}}{||A|| ||B||} = \\frac{13}{\\sqrt{14} \\cdot{\\sqrt{14}}} = 0.93\n",
        "$$"
      ],
      "metadata": {
        "id": "UZndGxvCFD8Y"
      }
    },
    {
      "cell_type": "markdown",
      "source": [
        "## How to do it?"
      ],
      "metadata": {
        "id": "KJ6WjSc6G6V7"
      }
    },
    {
      "cell_type": "markdown",
      "source": [
        "### Packages\n",
        "\n",
        "\n",
        "\n",
        "*   sklearn\n",
        "\n"
      ],
      "metadata": {
        "id": "k0QsX9fRKrDT"
      }
    },
    {
      "cell_type": "code",
      "source": [
        "from sklearn.metrics.pairwise import cosine_similarity\n",
        "from sklearn.feature_extraction.text import CountVectorizer\n",
        "from sklearn.feature_extraction.text import TfidfVectorizer"
      ],
      "metadata": {
        "id": "gfX6GnC_KuwN"
      },
      "execution_count": 28,
      "outputs": []
    },
    {
      "cell_type": "code",
      "source": [],
      "metadata": {
        "id": "7XvRFEU-ADlt"
      },
      "execution_count": null,
      "outputs": []
    },
    {
      "cell_type": "markdown",
      "source": [
        "### Examples"
      ],
      "metadata": {
        "id": "thjtP54CKwek"
      }
    },
    {
      "cell_type": "code",
      "source": [
        "import numpy as np\n",
        "vector_a = np.array([[1, 0, 2, 3]])\n",
        "vector_b = np.array([[1, 0, 2, 3]])\n",
        "\n",
        "print(cosine_similarity(vector_a, vector_b))"
      ],
      "metadata": {
        "id": "1I81XRrBKyHC",
        "colab": {
          "base_uri": "https://localhost:8080/"
        },
        "outputId": "1489b29a-755c-4ec5-ee65-781af688b455"
      },
      "execution_count": null,
      "outputs": [
        {
          "output_type": "stream",
          "name": "stdout",
          "text": [
            "[[1.]]\n"
          ]
        }
      ]
    },
    {
      "cell_type": "markdown",
      "source": [
        "## Practise\n",
        "\n",
        "Given two documents `doc1` and `doc2`\n"
      ],
      "metadata": {
        "id": "jic_NEDxIJQO"
      }
    },
    {
      "metadata": {
        "ExecuteTime": {
          "end_time": "2024-07-09T19:52:56.127893Z",
          "start_time": "2024-07-09T19:52:56.125929Z"
        },
        "id": "oABFvCnV_JZY"
      },
      "cell_type": "code",
      "source": [
        "doc_1 = \"i love cats, but not dogs\"\n",
        "\n",
        "doc_2 = \"i love dogs, but not cats\"\n",
        "\n",
        "documents = [doc_1, doc_2]\n"
      ],
      "outputs": [],
      "execution_count": 29
    },
    {
      "cell_type": "markdown",
      "source": [
        "### Quiz 1\n",
        "\n",
        "Calculate the cosine similarity between two `doc1` and `doc2` using Count Vectorizer"
      ],
      "metadata": {
        "id": "e48k1ynvIQQa"
      }
    },
    {
      "cell_type": "code",
      "source": [
        "count_vectorizer = CountVectorizer()\n",
        "x1=count_vectorizer.fit_transform([doc_1])\n",
        "x2=count_vectorizer.fit_transform([doc_2])\n",
        "x1.toarray()\n",
        "x2.toarray()\n",
        "\n"
      ],
      "metadata": {
        "id": "IcGKfrBZIYDT",
        "ExecuteTime": {
          "end_time": "2024-07-09T19:55:45.503733Z",
          "start_time": "2024-07-09T19:55:45.499877Z"
        },
        "outputId": "10282596-31b2-40a5-ffcb-9ca992199243",
        "colab": {
          "base_uri": "https://localhost:8080/"
        }
      },
      "outputs": [
        {
          "output_type": "execute_result",
          "data": {
            "text/plain": [
              "array([[1, 1, 1, 1, 1]])"
            ]
          },
          "metadata": {},
          "execution_count": 49
        }
      ],
      "execution_count": 49
    },
    {
      "cell_type": "code",
      "source": [
        "\n",
        "count_vectorizer = CountVectorizer(stop_words='english')\n",
        "x1=count_vectorizer.fit_transform([doc_1])\n",
        "x2=count_vectorizer.fit_transform([doc_2])\n",
        "x1.toarray()\n",
        "x2.toarray()"
      ],
      "metadata": {
        "colab": {
          "base_uri": "https://localhost:8080/"
        },
        "id": "fmIE3ZuqjAWd",
        "outputId": "3bcdb20d-5f8a-46c2-bb6a-5e05b2a18bef"
      },
      "execution_count": 51,
      "outputs": [
        {
          "output_type": "execute_result",
          "data": {
            "text/plain": [
              "array([[1, 1, 1]])"
            ]
          },
          "metadata": {},
          "execution_count": 51
        }
      ]
    },
    {
      "cell_type": "code",
      "source": [
        "count_vectorizer.get_feature_names_out()"
      ],
      "metadata": {
        "id": "uqLnxLOjHKts",
        "outputId": "eee5553f-a2d3-45a6-9bc5-e4b1528425e6",
        "colab": {
          "base_uri": "https://localhost:8080/"
        }
      },
      "execution_count": 52,
      "outputs": [
        {
          "output_type": "execute_result",
          "data": {
            "text/plain": [
              "array(['cats', 'dogs', 'love'], dtype=object)"
            ]
          },
          "metadata": {},
          "execution_count": 52
        }
      ]
    },
    {
      "metadata": {
        "ExecuteTime": {
          "end_time": "2024-07-09T19:55:53.087005Z",
          "start_time": "2024-07-09T19:55:53.085191Z"
        },
        "id": "zN_0dUUm_JZZ",
        "outputId": "cc03395b-343d-449e-ae50-e1082f1b70f5",
        "colab": {
          "base_uri": "https://localhost:8080/"
        }
      },
      "cell_type": "code",
      "source": [],
      "outputs": [
        {
          "output_type": "execute_result",
          "data": {
            "text/plain": [
              "array([[1.]])"
            ]
          },
          "metadata": {},
          "execution_count": 53
        }
      ],
      "execution_count": 53
    },
    {
      "cell_type": "markdown",
      "source": [
        "### Quiz 2\n",
        "\n",
        "Calculate the cosine similarity using `Count Vectorizer` between `doc1` and `doc2`, after removing stop words"
      ],
      "metadata": {
        "id": "Kir3QVXVJM0O"
      }
    },
    {
      "cell_type": "code",
      "source": [
        "\n",
        "count_vectorizer = CountVectorizer(stop_words='english')\n",
        "x1=count_vectorizer.fit_transform([doc_1])\n",
        "x2=count_vectorizer.fit_transform([doc_2])\n",
        "x1.toarray()\n",
        "x2.toarray()"
      ],
      "metadata": {
        "outputId": "58b589aa-3814-4380-8859-a26091253616",
        "colab": {
          "base_uri": "https://localhost:8080/"
        },
        "id": "PyTbCkIHjVtO"
      },
      "execution_count": 55,
      "outputs": [
        {
          "output_type": "execute_result",
          "data": {
            "text/plain": [
              "array([[1, 1, 1]])"
            ]
          },
          "metadata": {},
          "execution_count": 55
        }
      ]
    },
    {
      "cell_type": "code",
      "source": [
        "print(cosine_similarity(x1,x2))"
      ],
      "metadata": {
        "id": "rei6FlitJQSE",
        "ExecuteTime": {
          "end_time": "2024-07-09T19:52:39.188290Z",
          "start_time": "2024-07-09T19:52:39.184563Z"
        },
        "outputId": "fb98ce4a-c871-4e66-a65a-9c94398135cb",
        "colab": {
          "base_uri": "https://localhost:8080/"
        }
      },
      "outputs": [
        {
          "output_type": "stream",
          "name": "stdout",
          "text": [
            "[[1.]]\n"
          ]
        }
      ],
      "execution_count": 59
    },
    {
      "metadata": {
        "ExecuteTime": {
          "end_time": "2024-07-09T19:36:21.689155Z",
          "start_time": "2024-07-09T19:36:21.686766Z"
        },
        "id": "Ws6-P5mJ_JZZ"
      },
      "cell_type": "code",
      "source": [],
      "outputs": [],
      "execution_count": null
    },
    {
      "metadata": {
        "ExecuteTime": {
          "end_time": "2024-07-09T19:36:15.712618Z",
          "start_time": "2024-07-09T19:36:15.710528Z"
        },
        "id": "fNYQvgMc_JZZ"
      },
      "cell_type": "code",
      "source": [],
      "outputs": [],
      "execution_count": null
    },
    {
      "metadata": {
        "ExecuteTime": {
          "end_time": "2024-07-09T19:36:13.277172Z",
          "start_time": "2024-07-09T19:36:13.275252Z"
        },
        "id": "5mivXlNH_JZZ"
      },
      "cell_type": "code",
      "source": [],
      "outputs": [],
      "execution_count": null
    },
    {
      "cell_type": "markdown",
      "source": [
        "### Quiz 3\n",
        "\n",
        "Calculate the cosine similarity using TF-IDF between `doc1` and `doc2`"
      ],
      "metadata": {
        "id": "zzaBOITJJew2"
      }
    },
    {
      "cell_type": "code",
      "source": [
        "tfidf_vectorizer = TfidfVectorizer()\n",
        "x1=tfidf_vectorizer.fit_transform([doc_1])\n",
        "x2=tfidf_vectorizer.fit_transform([doc_2])\n",
        "x1.toarray()\n",
        "x2.toarray()"
      ],
      "metadata": {
        "id": "q6rbX7ueJijt",
        "ExecuteTime": {
          "end_time": "2024-07-09T19:53:40.585714Z",
          "start_time": "2024-07-09T19:53:40.579128Z"
        },
        "outputId": "5da4e312-f5d8-413d-e020-6160a667e8a3",
        "colab": {
          "base_uri": "https://localhost:8080/"
        }
      },
      "outputs": [
        {
          "output_type": "execute_result",
          "data": {
            "text/plain": [
              "array([[0.4472136, 0.4472136, 0.4472136, 0.4472136, 0.4472136]])"
            ]
          },
          "metadata": {},
          "execution_count": 60
        }
      ],
      "execution_count": 60
    },
    {
      "metadata": {
        "id": "_rxODJZS_JZZ",
        "outputId": "53a3b237-0687-4c45-c6d2-6303ed5787ff",
        "colab": {
          "base_uri": "https://localhost:8080/"
        }
      },
      "cell_type": "code",
      "outputs": [
        {
          "output_type": "execute_result",
          "data": {
            "text/plain": [
              "array([[1.]])"
            ]
          },
          "metadata": {},
          "execution_count": 61
        }
      ],
      "execution_count": 61,
      "source": [
        "cosine_similarity(x1,x2)"
      ]
    },
    {
      "cell_type": "markdown",
      "source": [
        "### Quiz 4\n",
        "\n",
        "Calculate the cosine similarity using TF-IDF between `doc1` and `doc2`, after removing stop words ?"
      ],
      "metadata": {
        "id": "gsrTmSHSJlCK"
      }
    },
    {
      "cell_type": "code",
      "source": [
        "tfidf_vectorizer = TfidfVectorizer(stop_words='english')\n",
        "x1=tfidf_vectorizer.fit_transform([doc_1])\n",
        "x2=tfidf_vectorizer.fit_transform([doc_2])\n",
        "x1.toarray()\n",
        "x2.toarray()"
      ],
      "metadata": {
        "id": "Gn-TeJl9Jnbh",
        "ExecuteTime": {
          "end_time": "2024-07-09T19:54:37.901691Z",
          "start_time": "2024-07-09T19:54:37.896153Z"
        },
        "outputId": "d3faa61c-bee4-4b65-b099-702cc93690c6",
        "colab": {
          "base_uri": "https://localhost:8080/"
        }
      },
      "outputs": [
        {
          "output_type": "execute_result",
          "data": {
            "text/plain": [
              "array([[0.57735027, 0.57735027, 0.57735027]])"
            ]
          },
          "metadata": {},
          "execution_count": 64
        }
      ],
      "execution_count": 64
    },
    {
      "cell_type": "code",
      "source": [
        "cosine_similarity(x1,x2)"
      ],
      "metadata": {
        "id": "fHtiDdIMk2CI",
        "outputId": "f2b6f7d0-36a4-42c9-c54a-d79e69412eb5",
        "colab": {
          "base_uri": "https://localhost:8080/"
        }
      },
      "execution_count": 65,
      "outputs": [
        {
          "output_type": "execute_result",
          "data": {
            "text/plain": [
              "array([[1.]])"
            ]
          },
          "metadata": {},
          "execution_count": 65
        }
      ]
    },
    {
      "cell_type": "markdown",
      "source": [
        "### Quiz 5\n",
        "\n",
        "Resolve Quiz 1-4 using Ngrams (1, 2)"
      ],
      "metadata": {
        "id": "CioCnpCiJovH"
      }
    },
    {
      "cell_type": "code",
      "source": [
        "# write answer here\n"
      ],
      "metadata": {
        "id": "8b_9k23RJrQN",
        "ExecuteTime": {
          "end_time": "2024-07-09T20:23:15.203997Z",
          "start_time": "2024-07-09T20:23:15.199126Z"
        },
        "outputId": "d4169490-b4ad-47d0-8a24-aee6be7710e4"
      },
      "outputs": [
        {
          "name": "stdout",
          "output_type": "stream",
          "text": [
            "       but not  but not cats  but not dogs  cats but  cats but not  dogs but  \\\n",
            "doc_1        1             0             1         1             1         0   \n",
            "doc_2        1             1             0         0             0         1   \n",
            "\n",
            "       dogs but not  love cats  love cats but  love dogs  love dogs but  \\\n",
            "doc_1             0          1              1          0              0   \n",
            "doc_2             1          0              0          1              1   \n",
            "\n",
            "       not cats  not dogs  \n",
            "doc_1         0         1  \n",
            "doc_2         1         0  \n",
            "\n",
            "**** Cosine Similarity:\n",
            "\n",
            "[[1.         0.14285714]\n",
            " [0.14285714 1.        ]]\n"
          ]
        }
      ],
      "execution_count": null
    },
    {
      "metadata": {
        "ExecuteTime": {
          "end_time": "2024-07-09T20:03:43.851013Z",
          "start_time": "2024-07-09T20:03:43.846175Z"
        },
        "id": "-pEdj9JH_JZa",
        "outputId": "4402e30a-59c0-4051-918a-ade27b8555a1"
      },
      "cell_type": "code",
      "source": [
        "# write answer here\n"
      ],
      "outputs": [
        {
          "name": "stdout",
          "output_type": "stream",
          "text": [
            "       cats dogs  dogs cats  love cats  love cats dogs  love dogs  \\\n",
            "doc_1          1          0          1               1          0   \n",
            "doc_2          0          1          0               0          1   \n",
            "\n",
            "       love dogs cats  \n",
            "doc_1               0  \n",
            "doc_2               1  \n",
            "\n",
            "**** Cosine Similarity:\n",
            "\n",
            "[[1. 0.]\n",
            " [0. 1.]]\n"
          ]
        }
      ],
      "execution_count": null
    },
    {
      "metadata": {
        "ExecuteTime": {
          "end_time": "2024-07-09T20:04:07.374670Z",
          "start_time": "2024-07-09T20:04:07.368352Z"
        },
        "id": "Bm96nHHU_JZa",
        "outputId": "6d0d83a2-6c77-4443-858e-520c5bdd480e"
      },
      "cell_type": "code",
      "source": [
        "\n"
      ],
      "outputs": [
        {
          "name": "stdout",
          "output_type": "stream",
          "text": [
            "        but not  but not cats  but not dogs  cats but  cats but not  dogs but  \\\n",
            "doc_1  0.278943      0.000000      0.392044  0.392044      0.392044  0.000000   \n",
            "doc_2  0.278943      0.392044      0.000000  0.000000      0.000000  0.392044   \n",
            "\n",
            "       dogs but not  love cats  love cats but  love dogs  love dogs but  \\\n",
            "doc_1      0.000000   0.392044       0.392044   0.000000       0.000000   \n",
            "doc_2      0.392044   0.000000       0.000000   0.392044       0.392044   \n",
            "\n",
            "       not cats  not dogs  \n",
            "doc_1  0.000000  0.392044  \n",
            "doc_2  0.392044  0.000000  \n",
            "\n",
            "**** Cosine Similarity:\n",
            "\n",
            "[[1.         0.07780894]\n",
            " [0.07780894 1.        ]]\n"
          ]
        }
      ],
      "execution_count": null
    },
    {
      "metadata": {
        "ExecuteTime": {
          "end_time": "2024-07-09T20:13:27.336967Z",
          "start_time": "2024-07-09T20:13:27.332095Z"
        },
        "id": "R_5hqV6j_JZa",
        "outputId": "3dd197a4-e0e6-4859-cf93-90a68cfd0894"
      },
      "cell_type": "code",
      "source": [],
      "outputs": [
        {
          "name": "stdout",
          "output_type": "stream",
          "text": [
            "       cats dogs  dogs cats  love cats  love cats dogs  love dogs  \\\n",
            "doc_1    0.57735    0.00000    0.57735         0.57735    0.00000   \n",
            "doc_2    0.00000    0.57735    0.00000         0.00000    0.57735   \n",
            "\n",
            "       love dogs cats  \n",
            "doc_1         0.00000  \n",
            "doc_2         0.57735  \n",
            "**** Cosine Similarity:\n",
            "[[1. 0.]\n",
            " [0. 1.]]\n"
          ]
        }
      ],
      "execution_count": null
    },
    {
      "cell_type": "markdown",
      "source": [
        "### Quiz 6\n",
        "\n",
        "Resolve Quiz 1-4 using Ngrams (2, 3)"
      ],
      "metadata": {
        "id": "h2GkPrjeJss_"
      }
    },
    {
      "cell_type": "code",
      "source": [
        "# write answer here"
      ],
      "metadata": {
        "id": "4yaaGeDlJuEx"
      },
      "execution_count": null,
      "outputs": []
    },
    {
      "cell_type": "markdown",
      "source": [
        "### Quiz 7\n",
        "\n",
        "What makes `doc1` and `doc2` similar?"
      ],
      "metadata": {
        "id": "7aI456TnKCy5"
      }
    },
    {
      "cell_type": "code",
      "source": [],
      "metadata": {
        "id": "W_vIYinBKFyY"
      },
      "execution_count": null,
      "outputs": []
    },
    {
      "cell_type": "markdown",
      "source": [
        "### Quiz 8\n",
        "\n",
        "what makes `doc1` and `doc2` different?"
      ],
      "metadata": {
        "id": "oi1cczxKKIFO"
      }
    },
    {
      "cell_type": "code",
      "source": [],
      "metadata": {
        "id": "JA5MZMlcKKhC"
      },
      "execution_count": null,
      "outputs": []
    },
    {
      "cell_type": "markdown",
      "source": [
        "### Quiz 9\n",
        "\n",
        "What your observation about the cosine similarity between `doc1` and `doc2`?"
      ],
      "metadata": {
        "id": "MNjWYA12KLwH"
      }
    },
    {
      "cell_type": "code",
      "source": [],
      "metadata": {
        "id": "BMe2_eXeKOXm"
      },
      "execution_count": null,
      "outputs": []
    },
    {
      "cell_type": "markdown",
      "source": [
        "### Quiz 10\n",
        "\n",
        "How Ngrams affect the cosine similarity between `doc1` and `doc2`?"
      ],
      "metadata": {
        "id": "HiMBCE88KPLk"
      }
    },
    {
      "cell_type": "code",
      "source": [],
      "metadata": {
        "id": "78ZBqiLkKUG2"
      },
      "execution_count": null,
      "outputs": []
    },
    {
      "cell_type": "code",
      "source": [],
      "metadata": {
        "id": "XaWD1KWpKVYt"
      },
      "execution_count": null,
      "outputs": []
    }
  ]
}